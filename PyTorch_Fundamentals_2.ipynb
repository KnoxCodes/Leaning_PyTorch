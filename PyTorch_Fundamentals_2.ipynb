{
  "nbformat": 4,
  "nbformat_minor": 0,
  "metadata": {
    "colab": {
      "provenance": []
    },
    "kernelspec": {
      "name": "python3",
      "display_name": "Python 3"
    },
    "language_info": {
      "name": "python"
    }
  },
  "cells": [
    {
      "cell_type": "code",
      "source": [
        "import torch\n",
        "torch.__version__"
      ],
      "metadata": {
        "colab": {
          "base_uri": "https://localhost:8080/",
          "height": 36
        },
        "id": "wPDf3hU42GEz",
        "outputId": "2e8beca1-3476-4c99-d42c-236238561ecb"
      },
      "execution_count": 4,
      "outputs": [
        {
          "output_type": "execute_result",
          "data": {
            "text/plain": [
              "'2.6.0+cu124'"
            ],
            "application/vnd.google.colaboratory.intrinsic+json": {
              "type": "string"
            }
          },
          "metadata": {},
          "execution_count": 4
        }
      ]
    },
    {
      "cell_type": "markdown",
      "source": [
        "## One of the most common errors in deep learning (shape errors)\n",
        "\n",
        "Because much of deep learning is multiplying and performing operations on matrices and matrices have a strict rule about what shapes and sizes can be combined, one of the most common errors you'll run into in deep learning is shape mismatches."
      ],
      "metadata": {
        "id": "-HfzOl5O04EH"
      }
    },
    {
      "cell_type": "code",
      "execution_count": 5,
      "metadata": {
        "id": "AlcZKOnRs4SX"
      },
      "outputs": [],
      "source": [
        "# Shapes need to be in the right way\n",
        "tensor_A = torch.tensor([[1, 2],\n",
        "                         [3, 4],\n",
        "                         [5, 6]], dtype=torch.float32)\n",
        "\n",
        "tensor_B = torch.tensor([[7, 10],\n",
        "                         [8, 11],\n",
        "                         [9, 12]], dtype=torch.float32)"
      ]
    },
    {
      "cell_type": "code",
      "source": [
        "torch.matmul(tensor_A, tensor_B) # (this will error)"
      ],
      "metadata": {
        "colab": {
          "base_uri": "https://localhost:8080/",
          "height": 141
        },
        "id": "BqG9C9ga2NZ9",
        "outputId": "88a6e428-62d7-475f-e19d-e7c7214cd005"
      },
      "execution_count": 6,
      "outputs": [
        {
          "output_type": "error",
          "ename": "RuntimeError",
          "evalue": "mat1 and mat2 shapes cannot be multiplied (3x2 and 3x2)",
          "traceback": [
            "\u001b[0;31m---------------------------------------------------------------------------\u001b[0m",
            "\u001b[0;31mRuntimeError\u001b[0m                              Traceback (most recent call last)",
            "\u001b[0;32m/tmp/ipython-input-6-386288765.py\u001b[0m in \u001b[0;36m<cell line: 0>\u001b[0;34m()\u001b[0m\n\u001b[0;32m----> 1\u001b[0;31m \u001b[0mtorch\u001b[0m\u001b[0;34m.\u001b[0m\u001b[0mmatmul\u001b[0m\u001b[0;34m(\u001b[0m\u001b[0mtensor_A\u001b[0m\u001b[0;34m,\u001b[0m \u001b[0mtensor_B\u001b[0m\u001b[0;34m)\u001b[0m \u001b[0;31m# (this will error)\u001b[0m\u001b[0;34m\u001b[0m\u001b[0;34m\u001b[0m\u001b[0m\n\u001b[0m",
            "\u001b[0;31mRuntimeError\u001b[0m: mat1 and mat2 shapes cannot be multiplied (3x2 and 3x2)"
          ]
        }
      ]
    },
    {
      "cell_type": "markdown",
      "source": [
        "We can make matrix multiplication work between `tensor_A` and `tensor_B` by making their inner dimensions match.\n",
        "\n",
        "One of the ways to do this is with a **transpose** (switch the dimensions of a given tensor).\n",
        "\n",
        "You can perform transposes in PyTorch using either:\n",
        "\n",
        "* `torch.transpose(input, dim0, dim1)` - where `input` is the desired tensor to transpose and dim0 and dim1 are the dimensions to be swapped.\n",
        "* `tensor.T `- where `tensor` is the desired tensor to transpose."
      ],
      "metadata": {
        "id": "7Wx8CmZf1dXt"
      }
    },
    {
      "cell_type": "code",
      "source": [
        "# View tensor_A and tensor_B\n",
        "print(tensor_A)\n",
        "print(tensor_B)"
      ],
      "metadata": {
        "colab": {
          "base_uri": "https://localhost:8080/"
        },
        "id": "UL1TcEm_1AM-",
        "outputId": "7212db77-1a31-42e0-aa60-434ba0d5c26d"
      },
      "execution_count": 7,
      "outputs": [
        {
          "output_type": "stream",
          "name": "stdout",
          "text": [
            "tensor([[1., 2.],\n",
            "        [3., 4.],\n",
            "        [5., 6.]])\n",
            "tensor([[ 7., 10.],\n",
            "        [ 8., 11.],\n",
            "        [ 9., 12.]])\n"
          ]
        }
      ]
    },
    {
      "cell_type": "code",
      "source": [
        "# View tensor_A and tensor_B.T\n",
        "print(tensor_A)\n",
        "print(tensor_B.T)"
      ],
      "metadata": {
        "colab": {
          "base_uri": "https://localhost:8080/"
        },
        "id": "vYqGTqlm11KC",
        "outputId": "226758f8-138f-434c-d46b-f84accdaaeda"
      },
      "execution_count": 8,
      "outputs": [
        {
          "output_type": "stream",
          "name": "stdout",
          "text": [
            "tensor([[1., 2.],\n",
            "        [3., 4.],\n",
            "        [5., 6.]])\n",
            "tensor([[ 7.,  8.,  9.],\n",
            "        [10., 11., 12.]])\n"
          ]
        }
      ]
    },
    {
      "cell_type": "code",
      "source": [
        "# The operation works when tensor_B is transposed\n",
        "print(f\"Original shapes: tensor_A = {tensor_A.shape}, tensor_B = {tensor_B.shape}\\n\")\n",
        "print(f\"New shapes: tensor_A = {tensor_A.shape} (same as above), tensor_B.T = {tensor_B.T.shape}\\n\")\n",
        "print(f\"Multiplying: {tensor_A.shape} * {tensor_B.T.shape} <- inner dimensions match\\n\")\n",
        "print(\"Output:\\n\")\n",
        "output = torch.matmul(tensor_A, tensor_B.T)\n",
        "print(output)\n",
        "print(f\"\\nOutput shape: {output.shape}\")"
      ],
      "metadata": {
        "colab": {
          "base_uri": "https://localhost:8080/"
        },
        "id": "6jhEVMFk2SJ3",
        "outputId": "1af9f429-783d-4675-8f6e-a679e2a45a8f"
      },
      "execution_count": 9,
      "outputs": [
        {
          "output_type": "stream",
          "name": "stdout",
          "text": [
            "Original shapes: tensor_A = torch.Size([3, 2]), tensor_B = torch.Size([3, 2])\n",
            "\n",
            "New shapes: tensor_A = torch.Size([3, 2]) (same as above), tensor_B.T = torch.Size([2, 3])\n",
            "\n",
            "Multiplying: torch.Size([3, 2]) * torch.Size([2, 3]) <- inner dimensions match\n",
            "\n",
            "Output:\n",
            "\n",
            "tensor([[ 27.,  30.,  33.],\n",
            "        [ 61.,  68.,  75.],\n",
            "        [ 95., 106., 117.]])\n",
            "\n",
            "Output shape: torch.Size([3, 3])\n"
          ]
        }
      ]
    },
    {
      "cell_type": "code",
      "source": [
        "# torch.mm is a shortcut for matmul\n",
        "torch.mm(tensor_A, tensor_B.T)"
      ],
      "metadata": {
        "colab": {
          "base_uri": "https://localhost:8080/"
        },
        "id": "EYaBKrDL2T58",
        "outputId": "daa13a51-49dc-4bfb-8eba-e0b3f2bc72fb"
      },
      "execution_count": 10,
      "outputs": [
        {
          "output_type": "execute_result",
          "data": {
            "text/plain": [
              "tensor([[ 27.,  30.,  33.],\n",
              "        [ 61.,  68.,  75.],\n",
              "        [ 95., 106., 117.]])"
            ]
          },
          "metadata": {},
          "execution_count": 10
        }
      ]
    },
    {
      "cell_type": "markdown",
      "source": [
        "## Finding the min, max, mean, sum, etc (aggregation)\n",
        "\n",
        "Now we've seen a few ways to manipulate tensors, let's run through a few ways to aggregate them (go from more values to less values)."
      ],
      "metadata": {
        "id": "Eniifsjl4DAN"
      }
    },
    {
      "cell_type": "code",
      "source": [
        "# Create a tensor\n",
        "x = torch.arange(0, 100, 10)\n",
        "x"
      ],
      "metadata": {
        "colab": {
          "base_uri": "https://localhost:8080/"
        },
        "id": "ltOGu7XO2Xf-",
        "outputId": "53281151-d68e-41e1-99f9-8b5a5b0c3a00"
      },
      "execution_count": 11,
      "outputs": [
        {
          "output_type": "execute_result",
          "data": {
            "text/plain": [
              "tensor([ 0, 10, 20, 30, 40, 50, 60, 70, 80, 90])"
            ]
          },
          "metadata": {},
          "execution_count": 11
        }
      ]
    },
    {
      "cell_type": "code",
      "source": [
        "print(f\"Minimum: {x.min()}\")\n",
        "print(f\"Maximum: {x.max()}\")\n",
        "# print(f\"Mean: {x.mean()}\") # this will error\n",
        "print(f\"Mean: {x.type(torch.float32).mean()}\") # won't work without float datatype\n",
        "print(f\"Sum: {x.sum()}\")"
      ],
      "metadata": {
        "colab": {
          "base_uri": "https://localhost:8080/"
        },
        "id": "bnQ5495q4MJQ",
        "outputId": "32e211b7-aaaf-42f9-b005-d40219745722"
      },
      "execution_count": 12,
      "outputs": [
        {
          "output_type": "stream",
          "name": "stdout",
          "text": [
            "Minimum: 0\n",
            "Maximum: 90\n",
            "Mean: 45.0\n",
            "Sum: 450\n"
          ]
        }
      ]
    },
    {
      "cell_type": "code",
      "source": [
        "torch.max(x), torch.min(x), torch.mean(x.type(torch.float32)),  torch.sum(x)"
      ],
      "metadata": {
        "colab": {
          "base_uri": "https://localhost:8080/"
        },
        "id": "_NFR6k9V4NRZ",
        "outputId": "dba3e434-2195-4903-95ca-5662901afae3"
      },
      "execution_count": 15,
      "outputs": [
        {
          "output_type": "execute_result",
          "data": {
            "text/plain": [
              "(tensor(90), tensor(0), tensor(45.), tensor(450))"
            ]
          },
          "metadata": {},
          "execution_count": 15
        }
      ]
    },
    {
      "cell_type": "markdown",
      "source": [
        "## Positional min/max\n",
        "\n",
        "You can also find the index of a tensor where the max or minimum occurs with `torch.argmax()` and `torch.argmin()` respectively.\n",
        "\n",
        "This is helpful incase you just want the position where the highest (or lowest) value is and not the actual value itself (we'll see this in a later section when using the softmax activation function)."
      ],
      "metadata": {
        "id": "GEvrng9A-IJj"
      }
    },
    {
      "cell_type": "code",
      "source": [
        " # Create a tensor\n",
        "tensor = torch.arange(10, 100, 10)\n",
        "print(f\"Tensor: {tensor}\")\n",
        "\n",
        "# Returns index of max and min values\n",
        "print(f\"Index where max value occurs: {tensor.argmax()}\")\n",
        "print(f\"Index where min value occurs: {tensor.argmin()}\")"
      ],
      "metadata": {
        "colab": {
          "base_uri": "https://localhost:8080/"
        },
        "id": "hz0_V2_74ZS0",
        "outputId": "144eebba-3502-4803-dc9b-6e40e8310c72"
      },
      "execution_count": 16,
      "outputs": [
        {
          "output_type": "stream",
          "name": "stdout",
          "text": [
            "Tensor: tensor([10, 20, 30, 40, 50, 60, 70, 80, 90])\n",
            "Index where max value occurs: 8\n",
            "Index where min value occurs: 0\n"
          ]
        }
      ]
    },
    {
      "cell_type": "markdown",
      "source": [
        "## Change tensor datatype\n",
        "\n",
        "As mentioned, a common issue with deep learning operations is having your tensors in different datatypes.\n",
        "\n",
        "If one tensor is in `torch.float64` and another is in `torch.float32`, you might run into some errors.\n",
        "\n",
        "But there's a fix.\n",
        "\n",
        "You can change the datatypes of tensors using `torch.Tensor.type(dtype=None)` where the dtype parameter is the datatype you'd like to use.\n"
      ],
      "metadata": {
        "id": "VacYVMOM-Uld"
      }
    },
    {
      "cell_type": "code",
      "source": [
        "# Create a tensor and check its datatype\n",
        "tensor = torch.arange(10., 100., 10.)\n",
        "tensor.dtype"
      ],
      "metadata": {
        "colab": {
          "base_uri": "https://localhost:8080/"
        },
        "id": "72Cxi_Mc-R2A",
        "outputId": "3698b9d9-b0ef-491f-8e08-e7bb64adb4ff"
      },
      "execution_count": 17,
      "outputs": [
        {
          "output_type": "execute_result",
          "data": {
            "text/plain": [
              "torch.float32"
            ]
          },
          "metadata": {},
          "execution_count": 17
        }
      ]
    },
    {
      "cell_type": "code",
      "source": [
        "# Create a float16 tensor\n",
        "tensor_float16 = tensor.type(torch.float16)\n",
        "tensor_float16"
      ],
      "metadata": {
        "colab": {
          "base_uri": "https://localhost:8080/"
        },
        "id": "Oyw1GqzC-tIM",
        "outputId": "56cf179a-eacc-47e3-bad8-940522e7c446"
      },
      "execution_count": 18,
      "outputs": [
        {
          "output_type": "execute_result",
          "data": {
            "text/plain": [
              "tensor([10., 20., 30., 40., 50., 60., 70., 80., 90.], dtype=torch.float16)"
            ]
          },
          "metadata": {},
          "execution_count": 18
        }
      ]
    },
    {
      "cell_type": "code",
      "source": [
        "# Create an int8 tensor\n",
        "tensor_int8 = tensor.type(torch.int8)\n",
        "tensor_int8"
      ],
      "metadata": {
        "colab": {
          "base_uri": "https://localhost:8080/"
        },
        "id": "Ncbi1-CB-uWT",
        "outputId": "650389fa-bcfe-489a-87c2-a71efacb35a9"
      },
      "execution_count": 19,
      "outputs": [
        {
          "output_type": "execute_result",
          "data": {
            "text/plain": [
              "tensor([10, 20, 30, 40, 50, 60, 70, 80, 90], dtype=torch.int8)"
            ]
          },
          "metadata": {},
          "execution_count": 19
        }
      ]
    },
    {
      "cell_type": "markdown",
      "source": [
        "## Reshaping, stacking, squeezing and unsqueezing\n",
        "\n",
        "![image.png](data:image/png;base64,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)"
      ],
      "metadata": {
        "id": "-0CO2azrPS3H"
      }
    },
    {
      "cell_type": "code",
      "source": [
        "# Create a tensor\n",
        "import torch\n",
        "x = torch.arange(1., 8.)\n",
        "x, x.shape"
      ],
      "metadata": {
        "colab": {
          "base_uri": "https://localhost:8080/"
        },
        "id": "xaf-ntic-vkZ",
        "outputId": "09520741-6a0c-4bd4-8ae6-1d10751566db"
      },
      "execution_count": 20,
      "outputs": [
        {
          "output_type": "execute_result",
          "data": {
            "text/plain": [
              "(tensor([1., 2., 3., 4., 5., 6., 7.]), torch.Size([7]))"
            ]
          },
          "metadata": {},
          "execution_count": 20
        }
      ]
    },
    {
      "cell_type": "code",
      "source": [
        "# Add an extra dimension\n",
        "x_reshaped = x.reshape(1, 7)\n",
        "x_reshaped, x_reshaped.shape"
      ],
      "metadata": {
        "colab": {
          "base_uri": "https://localhost:8080/"
        },
        "id": "InYNaQQoPdFm",
        "outputId": "5c2de2c3-faba-4f9f-fcce-d4e003dfb533"
      },
      "execution_count": 21,
      "outputs": [
        {
          "output_type": "execute_result",
          "data": {
            "text/plain": [
              "(tensor([[1., 2., 3., 4., 5., 6., 7.]]), torch.Size([1, 7]))"
            ]
          },
          "metadata": {},
          "execution_count": 21
        }
      ]
    },
    {
      "cell_type": "code",
      "source": [
        "# Change view (keeps same data as original but changes view)\n",
        "# See more: https://stackoverflow.com/a/54507446/7900723\n",
        "z = x.view(1, 7)\n",
        "z, z.shape"
      ],
      "metadata": {
        "colab": {
          "base_uri": "https://localhost:8080/"
        },
        "id": "qv6sCWNAPeTI",
        "outputId": "5d938a30-2688-444a-992e-a784c3942ae8"
      },
      "execution_count": 22,
      "outputs": [
        {
          "output_type": "execute_result",
          "data": {
            "text/plain": [
              "(tensor([[1., 2., 3., 4., 5., 6., 7.]]), torch.Size([1, 7]))"
            ]
          },
          "metadata": {},
          "execution_count": 22
        }
      ]
    },
    {
      "cell_type": "code",
      "source": [
        "# Changing z changes x\n",
        "z[:, 0] = 5\n",
        "z, x"
      ],
      "metadata": {
        "colab": {
          "base_uri": "https://localhost:8080/"
        },
        "id": "mjBV8lvQPfan",
        "outputId": "b1a5ed4e-2fd4-4c23-8ebf-05755ab99ac0"
      },
      "execution_count": 23,
      "outputs": [
        {
          "output_type": "execute_result",
          "data": {
            "text/plain": [
              "(tensor([[5., 2., 3., 4., 5., 6., 7.]]), tensor([5., 2., 3., 4., 5., 6., 7.]))"
            ]
          },
          "metadata": {},
          "execution_count": 23
        }
      ]
    },
    {
      "cell_type": "code",
      "source": [
        "# Stack tensors on top of each other\n",
        "x_stacked = torch.stack([x, x, x, x], dim=1) # try changing dim to dim=1 and see what happens\n",
        "x_stacked"
      ],
      "metadata": {
        "colab": {
          "base_uri": "https://localhost:8080/"
        },
        "id": "6mqHoVWpPgyX",
        "outputId": "258d3c57-4609-4f6d-e577-a91e8495e760"
      },
      "execution_count": 25,
      "outputs": [
        {
          "output_type": "execute_result",
          "data": {
            "text/plain": [
              "tensor([[5., 5., 5., 5.],\n",
              "        [2., 2., 2., 2.],\n",
              "        [3., 3., 3., 3.],\n",
              "        [4., 4., 4., 4.],\n",
              "        [5., 5., 5., 5.],\n",
              "        [6., 6., 6., 6.],\n",
              "        [7., 7., 7., 7.]])"
            ]
          },
          "metadata": {},
          "execution_count": 25
        }
      ]
    },
    {
      "cell_type": "code",
      "source": [
        "print(f\"Previous tensor: {x_reshaped}\")\n",
        "print(f\"Previous shape: {x_reshaped.shape}\")\n",
        "\n",
        "# Remove extra dimension from x_reshaped\n",
        "x_squeezed = x_reshaped.squeeze()\n",
        "print(f\"\\nNew tensor: {x_squeezed}\")\n",
        "print(f\"New shape: {x_squeezed.shape}\")"
      ],
      "metadata": {
        "colab": {
          "base_uri": "https://localhost:8080/"
        },
        "id": "OaUM6s5UPh3g",
        "outputId": "2d068db6-ffd6-42b1-ac68-04b30e86eb56"
      },
      "execution_count": 26,
      "outputs": [
        {
          "output_type": "stream",
          "name": "stdout",
          "text": [
            "Previous tensor: tensor([[5., 2., 3., 4., 5., 6., 7.]])\n",
            "Previous shape: torch.Size([1, 7])\n",
            "\n",
            "New tensor: tensor([5., 2., 3., 4., 5., 6., 7.])\n",
            "New shape: torch.Size([7])\n"
          ]
        }
      ]
    },
    {
      "cell_type": "code",
      "source": [
        "print(f\"Previous tensor: {x_squeezed}\")\n",
        "print(f\"Previous shape: {x_squeezed.shape}\")\n",
        "\n",
        "## Add an extra dimension with unsqueeze\n",
        "x_unsqueezed = x_squeezed.unsqueeze(dim=0)\n",
        "print(f\"\\nNew tensor: {x_unsqueezed}\")\n",
        "print(f\"New shape: {x_unsqueezed.shape}\")"
      ],
      "metadata": {
        "colab": {
          "base_uri": "https://localhost:8080/"
        },
        "id": "TWs5SaIdX610",
        "outputId": "140a55bc-0483-4026-feb9-2a7c9a320c71"
      },
      "execution_count": 27,
      "outputs": [
        {
          "output_type": "stream",
          "name": "stdout",
          "text": [
            "Previous tensor: tensor([5., 2., 3., 4., 5., 6., 7.])\n",
            "Previous shape: torch.Size([7])\n",
            "\n",
            "New tensor: tensor([[5., 2., 3., 4., 5., 6., 7.]])\n",
            "New shape: torch.Size([1, 7])\n"
          ]
        }
      ]
    },
    {
      "cell_type": "code",
      "source": [
        "print(f\"Previous tensor: {x_squeezed}\")\n",
        "print(f\"Previous shape: {x_squeezed.shape}\")\n",
        "\n",
        "## Add an extra dimension with unsqueeze\n",
        "x_unsqueezed = x_squeezed.unsqueeze(dim=0)\n",
        "print(f\"\\nNew tensor: {x_unsqueezed}\")\n",
        "print(f\"New shape: {x_unsqueezed.shape}\")"
      ],
      "metadata": {
        "colab": {
          "base_uri": "https://localhost:8080/"
        },
        "id": "gJgNiD3xYBuV",
        "outputId": "d17c9ea5-6e54-47a0-85db-9290f45a5811"
      },
      "execution_count": 28,
      "outputs": [
        {
          "output_type": "stream",
          "name": "stdout",
          "text": [
            "Previous tensor: tensor([5., 2., 3., 4., 5., 6., 7.])\n",
            "Previous shape: torch.Size([7])\n",
            "\n",
            "New tensor: tensor([[5., 2., 3., 4., 5., 6., 7.]])\n",
            "New shape: torch.Size([1, 7])\n"
          ]
        }
      ]
    },
    {
      "cell_type": "code",
      "source": [
        "# Create tensor with specific shape\n",
        "x_original = torch.rand(size=(224, 224, 3))\n",
        "\n",
        "# Permute the original tensor to rearrange the axis order\n",
        "x_permuted = x_original.permute(2, 0, 1) # shifts axis 0->1, 1->2, 2->0\n",
        "\n",
        "print(f\"Previous shape: {x_original.shape}\")\n",
        "print(f\"New shape: {x_permuted.shape}\")"
      ],
      "metadata": {
        "colab": {
          "base_uri": "https://localhost:8080/"
        },
        "id": "XLUp80KjYFLk",
        "outputId": "f1eb1068-9441-4b87-dde5-76cb8b95d0dd"
      },
      "execution_count": 29,
      "outputs": [
        {
          "output_type": "stream",
          "name": "stdout",
          "text": [
            "Previous shape: torch.Size([224, 224, 3])\n",
            "New shape: torch.Size([3, 224, 224])\n"
          ]
        }
      ]
    },
    {
      "cell_type": "markdown",
      "source": [
        "## Indexing (selecting data from tensors)\n",
        "Sometimes you'll want to select specific data from tensors (for example, only the first column or second row).\n",
        "\n",
        "To do so, you can use indexing.\n",
        "\n",
        "If you've ever done indexing on Python lists or NumPy arrays, indexing in PyTorch with tensors is very similar."
      ],
      "metadata": {
        "id": "xCesjJlQYZKh"
      }
    },
    {
      "cell_type": "code",
      "source": [
        "# Create a tensor\n",
        "import torch\n",
        "x = torch.arange(1, 10).reshape(1, 3, 3)\n",
        "x, x.shape"
      ],
      "metadata": {
        "colab": {
          "base_uri": "https://localhost:8080/"
        },
        "id": "W5t1gkVJYQQO",
        "outputId": "e4a3f336-e077-483f-cffa-0dfd2f931c7b"
      },
      "execution_count": 36,
      "outputs": [
        {
          "output_type": "execute_result",
          "data": {
            "text/plain": [
              "(tensor([[[1, 2, 3],\n",
              "          [4, 5, 6],\n",
              "          [7, 8, 9]]]),\n",
              " torch.Size([1, 3, 3]))"
            ]
          },
          "metadata": {},
          "execution_count": 36
        }
      ]
    },
    {
      "cell_type": "code",
      "source": [
        "# Let's index bracket by bracket\n",
        "print(f\"First square bracket:\\n{x[0]}\")\n",
        "print(f\"Second square bracket: {x[0][0]}\")\n",
        "print(f\"Third square bracket: {x[0][0][0]}\")"
      ],
      "metadata": {
        "colab": {
          "base_uri": "https://localhost:8080/"
        },
        "id": "iB8FyWvBYfnN",
        "outputId": "c0282e39-304e-4f21-d717-aa30735b0864"
      },
      "execution_count": 37,
      "outputs": [
        {
          "output_type": "stream",
          "name": "stdout",
          "text": [
            "First square bracket:\n",
            "tensor([[1, 2, 3],\n",
            "        [4, 5, 6],\n",
            "        [7, 8, 9]])\n",
            "Second square bracket: tensor([1, 2, 3])\n",
            "Third square bracket: 1\n"
          ]
        }
      ]
    },
    {
      "cell_type": "code",
      "source": [
        "# Get all values of 0th dimension and the 0 index of 1st dimension\n",
        "x[:, 0]"
      ],
      "metadata": {
        "colab": {
          "base_uri": "https://localhost:8080/"
        },
        "id": "tM2LTFEDY4Kc",
        "outputId": "ea76855d-49b2-4367-ce08-6a1eba8dfe84"
      },
      "execution_count": 38,
      "outputs": [
        {
          "output_type": "execute_result",
          "data": {
            "text/plain": [
              "tensor([[1, 2, 3]])"
            ]
          },
          "metadata": {},
          "execution_count": 38
        }
      ]
    },
    {
      "cell_type": "code",
      "source": [
        "# Get all values of 0th & 1st dimensions but only index 1 of 2nd dimension\n",
        "x[:, :, 1]"
      ],
      "metadata": {
        "colab": {
          "base_uri": "https://localhost:8080/"
        },
        "id": "X5wt6tV5Y8YW",
        "outputId": "da60d68c-0a94-4bf2-af49-a7223f7ce42e"
      },
      "execution_count": 39,
      "outputs": [
        {
          "output_type": "execute_result",
          "data": {
            "text/plain": [
              "tensor([[2, 5, 8]])"
            ]
          },
          "metadata": {},
          "execution_count": 39
        }
      ]
    },
    {
      "cell_type": "code",
      "source": [
        "# Get all values of the 0 dimension but only the 1 index value of the 1st and 2nd dimension\n",
        "x[:, 1, 1]"
      ],
      "metadata": {
        "colab": {
          "base_uri": "https://localhost:8080/"
        },
        "id": "8qS6ITsdZCFH",
        "outputId": "08756aee-f517-45f3-9371-598ab7a376c1"
      },
      "execution_count": 40,
      "outputs": [
        {
          "output_type": "execute_result",
          "data": {
            "text/plain": [
              "tensor([5])"
            ]
          },
          "metadata": {},
          "execution_count": 40
        }
      ]
    },
    {
      "cell_type": "code",
      "source": [
        "# Get index 0 of 0th and 1st dimension and all values of 2nd dimension\n",
        "x[0, 0, :] # same as x[0][0]"
      ],
      "metadata": {
        "colab": {
          "base_uri": "https://localhost:8080/"
        },
        "id": "AeaivN7TZDa0",
        "outputId": "f5d4bed5-53e5-4a14-cd96-93367a7732f0"
      },
      "execution_count": 41,
      "outputs": [
        {
          "output_type": "execute_result",
          "data": {
            "text/plain": [
              "tensor([1, 2, 3])"
            ]
          },
          "metadata": {},
          "execution_count": 41
        }
      ]
    },
    {
      "cell_type": "markdown",
      "source": [
        "## PyTorch tensors & NumPy\n",
        "\n",
        "Since NumPy is a popular Python numerical computing library, PyTorch has functionality to interact with it nicely.\n",
        "\n",
        "The two main methods you'll want to use for NumPy to PyTorch (and back again) are:\n",
        "\n",
        "* `torch.from_numpy(ndarray)` - NumPy array -> PyTorch tensor.\n",
        "* `torch.Tensor.numpy()` - PyTorch tensor -> NumPy array."
      ],
      "metadata": {
        "id": "DwM-3ZNHgUVF"
      }
    },
    {
      "cell_type": "code",
      "source": [
        "# NumPy array to tensor\n",
        "import torch\n",
        "import numpy as np\n",
        "array = np.arange(1.0, 8.0)\n",
        "tensor = torch.from_numpy(array)\n",
        "array, tensor"
      ],
      "metadata": {
        "colab": {
          "base_uri": "https://localhost:8080/"
        },
        "id": "oBuv6ZCYZEfU",
        "outputId": "bfc099ec-43a2-45a9-9bf2-a5abbd8879ff"
      },
      "execution_count": 42,
      "outputs": [
        {
          "output_type": "execute_result",
          "data": {
            "text/plain": [
              "(array([1., 2., 3., 4., 5., 6., 7.]),\n",
              " tensor([1., 2., 3., 4., 5., 6., 7.], dtype=torch.float64))"
            ]
          },
          "metadata": {},
          "execution_count": 42
        }
      ]
    },
    {
      "cell_type": "code",
      "source": [
        "# Change the array, keep the tensor\n",
        "array = array + 1\n",
        "array, tensor"
      ],
      "metadata": {
        "colab": {
          "base_uri": "https://localhost:8080/"
        },
        "id": "hunF8qNgggCJ",
        "outputId": "975add21-005a-4a7a-e3e4-1bff0951696d"
      },
      "execution_count": 43,
      "outputs": [
        {
          "output_type": "execute_result",
          "data": {
            "text/plain": [
              "(array([2., 3., 4., 5., 6., 7., 8.]),\n",
              " tensor([1., 2., 3., 4., 5., 6., 7.], dtype=torch.float64))"
            ]
          },
          "metadata": {},
          "execution_count": 43
        }
      ]
    },
    {
      "cell_type": "code",
      "source": [
        "# Tensor to NumPy array\n",
        "tensor = torch.ones(7) # create a tensor of ones with dtype=float32\n",
        "numpy_tensor = tensor.numpy() # will be dtype=float32 unless changed\n",
        "tensor, numpy_tensor"
      ],
      "metadata": {
        "colab": {
          "base_uri": "https://localhost:8080/"
        },
        "id": "bfceXJe0gnCo",
        "outputId": "42e5be9c-51d9-4287-8f82-de3d15d8d1f7"
      },
      "execution_count": 44,
      "outputs": [
        {
          "output_type": "execute_result",
          "data": {
            "text/plain": [
              "(tensor([1., 1., 1., 1., 1., 1., 1.]),\n",
              " array([1., 1., 1., 1., 1., 1., 1.], dtype=float32))"
            ]
          },
          "metadata": {},
          "execution_count": 44
        }
      ]
    },
    {
      "cell_type": "code",
      "source": [
        "# Change the tensor, keep the array the same\n",
        "tensor = tensor + 1\n",
        "tensor, numpy_tensor"
      ],
      "metadata": {
        "colab": {
          "base_uri": "https://localhost:8080/"
        },
        "id": "xqsNbGysgvsL",
        "outputId": "1c3cfe46-b486-4d22-ffc8-b1e2dabbbef7"
      },
      "execution_count": 45,
      "outputs": [
        {
          "output_type": "execute_result",
          "data": {
            "text/plain": [
              "(tensor([2., 2., 2., 2., 2., 2., 2.]),\n",
              " array([1., 1., 1., 1., 1., 1., 1.], dtype=float32))"
            ]
          },
          "metadata": {},
          "execution_count": 45
        }
      ]
    },
    {
      "cell_type": "markdown",
      "source": [
        "## Reproducibility (trying to take the random out of random)\n",
        "\n",
        "We've discussed neural networks start with random numbers to describe patterns in data (these numbers are poor descriptions) and try to improve those random numbers using tensor operations (and a few other things we haven't discussed yet) to better describe patterns in data.\n",
        "\n",
        "In short:\n",
        "\n",
        "`start with random numbers -> tensor operations -> try to make better (again and again and again)`\n",
        "\n",
        "Although randomness is nice and powerful, sometimes you'd like there to be a little less randomness.\n",
        "\n",
        "Why?\n",
        "\n",
        "So you can perform repeatable experiments.\n",
        "\n",
        "For example, you create an algorithm capable of achieving X performance.\n",
        "\n",
        "And then your friend tries it out to verify you're not crazy.\n",
        "\n",
        "How could they do such a thing?\n",
        "\n",
        "That's where **reproducibility** comes in.\n",
        "\n",
        "In other words, can you get the same (or very similar) results on your computer running the same code as I get on mine?"
      ],
      "metadata": {
        "id": "iF-xToWKg1lQ"
      }
    },
    {
      "cell_type": "code",
      "source": [
        "import torch\n",
        "\n",
        "# Create two random tensors\n",
        "random_tensor_A = torch.rand(3, 4)\n",
        "random_tensor_B = torch.rand(3, 4)\n",
        "\n",
        "print(f\"Tensor A:\\n{random_tensor_A}\\n\")\n",
        "print(f\"Tensor B:\\n{random_tensor_B}\\n\")\n",
        "print(f\"Does Tensor A equal Tensor B? (anywhere)\")\n",
        "random_tensor_A == random_tensor_B"
      ],
      "metadata": {
        "colab": {
          "base_uri": "https://localhost:8080/"
        },
        "id": "OyKWDinKgxRg",
        "outputId": "b9370361-fe6a-482b-f48f-a67640ab4bc6"
      },
      "execution_count": 46,
      "outputs": [
        {
          "output_type": "stream",
          "name": "stdout",
          "text": [
            "Tensor A:\n",
            "tensor([[0.1518, 0.5461, 0.6787, 0.8696],\n",
            "        [0.1500, 0.9918, 0.1883, 0.2401],\n",
            "        [0.9513, 0.8132, 0.3882, 0.3790]])\n",
            "\n",
            "Tensor B:\n",
            "tensor([[0.4117, 0.4040, 0.4964, 0.2480],\n",
            "        [0.8696, 0.1025, 0.4018, 0.7201],\n",
            "        [0.1322, 0.8387, 0.3146, 0.5254]])\n",
            "\n",
            "Does Tensor A equal Tensor B? (anywhere)\n"
          ]
        },
        {
          "output_type": "execute_result",
          "data": {
            "text/plain": [
              "tensor([[False, False, False, False],\n",
              "        [False, False, False, False],\n",
              "        [False, False, False, False]])"
            ]
          },
          "metadata": {},
          "execution_count": 46
        }
      ]
    },
    {
      "cell_type": "markdown",
      "source": [
        "Just as you might've expected, the tensors come out with different values.\n",
        "\n",
        "But what if you wanted to create two random tensors with the same values.\n",
        "\n",
        "As in, the tensors would still contain random values but they would be of the same flavour.\n",
        "\n",
        "That's where` torch.manual_seed(seed)` comes in, where seed is an integer (like 42 but it could be anything) that flavours the randomness.\n",
        "\n",
        "Let's try it out by creating some more flavoured random tensors."
      ],
      "metadata": {
        "id": "BN8sNe04jYwN"
      }
    },
    {
      "cell_type": "code",
      "source": [
        "import torch\n",
        "import random\n",
        "\n",
        "# # Set the random seed\n",
        "RANDOM_SEED=42 # try changing this to different values and see what happens to the numbers below\n",
        "torch.manual_seed(seed=RANDOM_SEED)\n",
        "random_tensor_C = torch.rand(3, 4)\n",
        "\n",
        "# Have to reset the seed every time a new rand() is called\n",
        "# Without this, tensor_D would be different to tensor_C\n",
        "torch.random.manual_seed(seed=RANDOM_SEED) # try commenting this line out and seeing what happens\n",
        "random_tensor_D = torch.rand(3, 4)\n",
        "\n",
        "print(f\"Tensor C:\\n{random_tensor_C}\\n\")\n",
        "print(f\"Tensor D:\\n{random_tensor_D}\\n\")\n",
        "print(f\"Does Tensor C equal Tensor D? (anywhere)\")\n",
        "random_tensor_C == random_tensor_D"
      ],
      "metadata": {
        "colab": {
          "base_uri": "https://localhost:8080/"
        },
        "id": "FImeOghZjSRv",
        "outputId": "d656942b-b941-4bf9-e0a5-d861faba3d9f"
      },
      "execution_count": 47,
      "outputs": [
        {
          "output_type": "stream",
          "name": "stdout",
          "text": [
            "Tensor C:\n",
            "tensor([[0.8823, 0.9150, 0.3829, 0.9593],\n",
            "        [0.3904, 0.6009, 0.2566, 0.7936],\n",
            "        [0.9408, 0.1332, 0.9346, 0.5936]])\n",
            "\n",
            "Tensor D:\n",
            "tensor([[0.8823, 0.9150, 0.3829, 0.9593],\n",
            "        [0.3904, 0.6009, 0.2566, 0.7936],\n",
            "        [0.9408, 0.1332, 0.9346, 0.5936]])\n",
            "\n",
            "Does Tensor C equal Tensor D? (anywhere)\n"
          ]
        },
        {
          "output_type": "execute_result",
          "data": {
            "text/plain": [
              "tensor([[True, True, True, True],\n",
              "        [True, True, True, True],\n",
              "        [True, True, True, True]])"
            ]
          },
          "metadata": {},
          "execution_count": 47
        }
      ]
    }
  ]
}