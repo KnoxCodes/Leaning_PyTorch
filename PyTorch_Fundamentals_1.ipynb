{
  "nbformat": 4,
  "nbformat_minor": 0,
  "metadata": {
    "colab": {
      "provenance": []
    },
    "kernelspec": {
      "name": "python3",
      "display_name": "Python 3"
    },
    "language_info": {
      "name": "python"
    }
  },
  "cells": [
    {
      "cell_type": "code",
      "execution_count": 1,
      "metadata": {
        "colab": {
          "base_uri": "https://localhost:8080/"
        },
        "id": "CgUsnkO3YsaY",
        "outputId": "93c043b6-a466-4a1c-ec20-b9e282c0f54f"
      },
      "outputs": [
        {
          "output_type": "stream",
          "name": "stdout",
          "text": [
            "2.6.0+cu124\n"
          ]
        }
      ],
      "source": [
        "import torch\n",
        "import pandas as pd\n",
        "import numpy as np\n",
        "import matplotlib.pyplot as plt\n",
        "print(torch.__version__)"
      ]
    },
    {
      "cell_type": "markdown",
      "source": [
        "# Introduction to Tensor\n"
      ],
      "metadata": {
        "id": "mJEKeO57Zo0Z"
      }
    },
    {
      "cell_type": "markdown",
      "source": [
        "## Creating Tensors"
      ],
      "metadata": {
        "id": "ZO0WM_5XZtQn"
      }
    },
    {
      "cell_type": "code",
      "source": [
        "#scalar\n",
        "scalar = torch.tensor(7)\n",
        "scalar"
      ],
      "metadata": {
        "colab": {
          "base_uri": "https://localhost:8080/"
        },
        "id": "rBWYhjKLZY3j",
        "outputId": "ba36f0ad-6dc8-4fed-a769-e70709748f8b"
      },
      "execution_count": 2,
      "outputs": [
        {
          "output_type": "execute_result",
          "data": {
            "text/plain": [
              "tensor(7)"
            ]
          },
          "metadata": {},
          "execution_count": 2
        }
      ]
    },
    {
      "cell_type": "code",
      "source": [
        "scalar.ndim"
      ],
      "metadata": {
        "colab": {
          "base_uri": "https://localhost:8080/"
        },
        "id": "0V4ihwIpZ5nL",
        "outputId": "12a547ae-ce07-4158-eda0-dce4df25dbbb"
      },
      "execution_count": 3,
      "outputs": [
        {
          "output_type": "execute_result",
          "data": {
            "text/plain": [
              "0"
            ]
          },
          "metadata": {},
          "execution_count": 3
        }
      ]
    },
    {
      "cell_type": "code",
      "source": [
        "scalar.item()"
      ],
      "metadata": {
        "colab": {
          "base_uri": "https://localhost:8080/"
        },
        "id": "Me7nYl-6aQkJ",
        "outputId": "a77e36fb-a04d-4e74-c8d5-b4d7687ebb0d"
      },
      "execution_count": 4,
      "outputs": [
        {
          "output_type": "execute_result",
          "data": {
            "text/plain": [
              "7"
            ]
          },
          "metadata": {},
          "execution_count": 4
        }
      ]
    },
    {
      "cell_type": "code",
      "source": [
        "#Vector\n",
        "vector = torch.tensor([7,7])\n",
        "vector"
      ],
      "metadata": {
        "colab": {
          "base_uri": "https://localhost:8080/"
        },
        "id": "Kp_7llCYaehM",
        "outputId": "a057c73b-2d97-4b7c-d43c-b43e6bba09df"
      },
      "execution_count": 6,
      "outputs": [
        {
          "output_type": "execute_result",
          "data": {
            "text/plain": [
              "tensor([7, 7])"
            ]
          },
          "metadata": {},
          "execution_count": 6
        }
      ]
    },
    {
      "cell_type": "code",
      "source": [
        "vector.size()"
      ],
      "metadata": {
        "colab": {
          "base_uri": "https://localhost:8080/"
        },
        "id": "JM6XPIRyalrh",
        "outputId": "4ad497cb-9fa4-4786-8c16-2d28b61e5213"
      },
      "execution_count": 8,
      "outputs": [
        {
          "output_type": "execute_result",
          "data": {
            "text/plain": [
              "torch.Size([2])"
            ]
          },
          "metadata": {},
          "execution_count": 8
        }
      ]
    },
    {
      "cell_type": "code",
      "source": [
        "vector.ndim"
      ],
      "metadata": {
        "colab": {
          "base_uri": "https://localhost:8080/"
        },
        "id": "swk-SxnVatNt",
        "outputId": "9b064825-e1d6-404a-d03c-c2527675e08e"
      },
      "execution_count": 9,
      "outputs": [
        {
          "output_type": "execute_result",
          "data": {
            "text/plain": [
              "1"
            ]
          },
          "metadata": {},
          "execution_count": 9
        }
      ]
    },
    {
      "cell_type": "code",
      "source": [
        "# MATRIX\n",
        "MATRIX = torch.tensor([[1,2],\n",
        "                      [3,4]])\n",
        "MATRIX"
      ],
      "metadata": {
        "colab": {
          "base_uri": "https://localhost:8080/"
        },
        "id": "cjnbeG9JawTj",
        "outputId": "01dbcd8d-7b47-4890-f8fb-0952590446cf"
      },
      "execution_count": 10,
      "outputs": [
        {
          "output_type": "execute_result",
          "data": {
            "text/plain": [
              "tensor([[1, 2],\n",
              "        [3, 4]])"
            ]
          },
          "metadata": {},
          "execution_count": 10
        }
      ]
    },
    {
      "cell_type": "code",
      "source": [
        "MATRIX.ndim"
      ],
      "metadata": {
        "colab": {
          "base_uri": "https://localhost:8080/"
        },
        "id": "w4nEV63LbN0T",
        "outputId": "cc14e4f2-30f9-4fd3-c5d5-54e0d70419e2"
      },
      "execution_count": 11,
      "outputs": [
        {
          "output_type": "execute_result",
          "data": {
            "text/plain": [
              "2"
            ]
          },
          "metadata": {},
          "execution_count": 11
        }
      ]
    },
    {
      "cell_type": "code",
      "source": [
        "MATRIX.shape"
      ],
      "metadata": {
        "colab": {
          "base_uri": "https://localhost:8080/"
        },
        "id": "1waJrBNpbTSm",
        "outputId": "5eb28ba3-d417-4228-9718-6f026897655b"
      },
      "execution_count": 13,
      "outputs": [
        {
          "output_type": "execute_result",
          "data": {
            "text/plain": [
              "torch.Size([2, 2])"
            ]
          },
          "metadata": {},
          "execution_count": 13
        }
      ]
    },
    {
      "cell_type": "code",
      "source": [
        "#TENSOR\n",
        "TENSOR = torch.tensor([[[1,2,3],[2,3,4],[3,4,5]]])\n",
        "TENSOR"
      ],
      "metadata": {
        "colab": {
          "base_uri": "https://localhost:8080/"
        },
        "id": "RyvGEd67bWCI",
        "outputId": "8fb8adf8-5e73-4b39-d737-f8c2fa67f1b5"
      },
      "execution_count": 15,
      "outputs": [
        {
          "output_type": "execute_result",
          "data": {
            "text/plain": [
              "tensor([[[1, 2, 3],\n",
              "         [2, 3, 4],\n",
              "         [3, 4, 5]]])"
            ]
          },
          "metadata": {},
          "execution_count": 15
        }
      ]
    },
    {
      "cell_type": "code",
      "source": [
        "TENSOR.ndim"
      ],
      "metadata": {
        "colab": {
          "base_uri": "https://localhost:8080/"
        },
        "id": "76hwfeMAbnCy",
        "outputId": "36ce57de-b9d3-4677-de01-cc87d13d24e1"
      },
      "execution_count": 16,
      "outputs": [
        {
          "output_type": "execute_result",
          "data": {
            "text/plain": [
              "3"
            ]
          },
          "metadata": {},
          "execution_count": 16
        }
      ]
    },
    {
      "cell_type": "code",
      "source": [
        "TENSOR.shape"
      ],
      "metadata": {
        "colab": {
          "base_uri": "https://localhost:8080/"
        },
        "id": "CwwHsj1EbxFE",
        "outputId": "c8e225c1-7294-4167-d0b6-34e7d76ab9d9"
      },
      "execution_count": 17,
      "outputs": [
        {
          "output_type": "execute_result",
          "data": {
            "text/plain": [
              "torch.Size([1, 3, 3])"
            ]
          },
          "metadata": {},
          "execution_count": 17
        }
      ]
    },
    {
      "cell_type": "code",
      "source": [
        "TENSOR[0]"
      ],
      "metadata": {
        "colab": {
          "base_uri": "https://localhost:8080/"
        },
        "id": "76s-ZZ8AbzwS",
        "outputId": "26a9cea0-44b6-4a15-a2cc-6716659bcd87"
      },
      "execution_count": 18,
      "outputs": [
        {
          "output_type": "execute_result",
          "data": {
            "text/plain": [
              "tensor([[1, 2, 3],\n",
              "        [2, 3, 4],\n",
              "        [3, 4, 5]])"
            ]
          },
          "metadata": {},
          "execution_count": 18
        }
      ]
    },
    {
      "cell_type": "code",
      "source": [
        "#Practice Tensors\n",
        "Tensor_1 = torch.tensor([[[[1,2],[3,4],[5,6]],[[1,2],[3,4],[5,6]]],[[[1,2],[3,4],[5,6]],[[1,2],[3,4],[5,6]]]])\n",
        "Tensor_1"
      ],
      "metadata": {
        "colab": {
          "base_uri": "https://localhost:8080/"
        },
        "id": "d0eDl6ecb66v",
        "outputId": "5b008e2a-3bfe-4aea-81f4-7099a8d66eff"
      },
      "execution_count": 27,
      "outputs": [
        {
          "output_type": "execute_result",
          "data": {
            "text/plain": [
              "tensor([[[[1, 2],\n",
              "          [3, 4],\n",
              "          [5, 6]],\n",
              "\n",
              "         [[1, 2],\n",
              "          [3, 4],\n",
              "          [5, 6]]],\n",
              "\n",
              "\n",
              "        [[[1, 2],\n",
              "          [3, 4],\n",
              "          [5, 6]],\n",
              "\n",
              "         [[1, 2],\n",
              "          [3, 4],\n",
              "          [5, 6]]]])"
            ]
          },
          "metadata": {},
          "execution_count": 27
        }
      ]
    },
    {
      "cell_type": "code",
      "source": [
        "Tensor_1.ndim"
      ],
      "metadata": {
        "colab": {
          "base_uri": "https://localhost:8080/"
        },
        "id": "4EXDwHhkdjp3",
        "outputId": "dc76aefa-e5c3-41f2-9401-b8b4e31422e6"
      },
      "execution_count": 28,
      "outputs": [
        {
          "output_type": "execute_result",
          "data": {
            "text/plain": [
              "4"
            ]
          },
          "metadata": {},
          "execution_count": 28
        }
      ]
    },
    {
      "cell_type": "code",
      "source": [
        "Tensor_1.shape"
      ],
      "metadata": {
        "colab": {
          "base_uri": "https://localhost:8080/"
        },
        "id": "ekMcM4Gpdlui",
        "outputId": "2ff25358-8066-488d-ccfe-ebf15b2d44a2"
      },
      "execution_count": 29,
      "outputs": [
        {
          "output_type": "execute_result",
          "data": {
            "text/plain": [
              "torch.Size([2, 2, 3, 2])"
            ]
          },
          "metadata": {},
          "execution_count": 29
        }
      ]
    },
    {
      "cell_type": "markdown",
      "source": [
        "### Random Tensors\n",
        "#### Why random tensors?\n",
        "Random tensors are important beacuse the way neural networks learn is that they start with tensors full of random numbers and then adjust those random numbers to better represent the data."
      ],
      "metadata": {
        "id": "Qn5u7JYkmUaX"
      }
    },
    {
      "cell_type": "code",
      "source": [
        "# Create a random tensor of size (3, 4)\n",
        "random_tensor = torch.rand(size=(3, 4))\n",
        "random_tensor, random_tensor.dtype"
      ],
      "metadata": {
        "colab": {
          "base_uri": "https://localhost:8080/"
        },
        "id": "2DeSk8Hudnc3",
        "outputId": "a70c0ae7-92e7-4d84-e537-f5df7259e9c2"
      },
      "execution_count": 30,
      "outputs": [
        {
          "output_type": "execute_result",
          "data": {
            "text/plain": [
              "(tensor([[0.4456, 0.2349, 0.4001, 0.3521],\n",
              "         [0.7616, 0.0098, 0.4985, 0.0221],\n",
              "         [0.1003, 0.8602, 0.2571, 0.0930]]),\n",
              " torch.float32)"
            ]
          },
          "metadata": {},
          "execution_count": 30
        }
      ]
    },
    {
      "cell_type": "markdown",
      "source": [
        "## Zeros and Ones"
      ],
      "metadata": {
        "id": "d51QQoqfphaG"
      }
    },
    {
      "cell_type": "code",
      "source": [
        " # Create a tensor of all Zeros\n",
        " zeros = torch.zeros(size =(3,4))\n",
        " zeros"
      ],
      "metadata": {
        "colab": {
          "base_uri": "https://localhost:8080/"
        },
        "id": "aVTELarSoQNP",
        "outputId": "53c16f35-279d-4278-bddf-8089b97ffb8a"
      },
      "execution_count": 32,
      "outputs": [
        {
          "output_type": "execute_result",
          "data": {
            "text/plain": [
              "tensor([[0., 0., 0., 0.],\n",
              "        [0., 0., 0., 0.],\n",
              "        [0., 0., 0., 0.]])"
            ]
          },
          "metadata": {},
          "execution_count": 32
        }
      ]
    },
    {
      "cell_type": "code",
      "source": [
        " #Create a tensor of all ones\n",
        "ones = torch.ones(size = (3,4))\n",
        "ones"
      ],
      "metadata": {
        "colab": {
          "base_uri": "https://localhost:8080/"
        },
        "id": "PbFTImqlpv8k",
        "outputId": "ba77868b-8bf1-48bb-85af-ecc0387382ba"
      },
      "execution_count": 33,
      "outputs": [
        {
          "output_type": "execute_result",
          "data": {
            "text/plain": [
              "tensor([[1., 1., 1., 1.],\n",
              "        [1., 1., 1., 1.],\n",
              "        [1., 1., 1., 1.]])"
            ]
          },
          "metadata": {},
          "execution_count": 33
        }
      ]
    },
    {
      "cell_type": "markdown",
      "source": [
        "## Creating a range of tensors and tensor-like"
      ],
      "metadata": {
        "id": "HBP1oMBdqrix"
      }
    },
    {
      "cell_type": "code",
      "source": [
        "# Create a range of values 0 to 10\n",
        "zero_to_ten = torch.arange(start=0, end=10, step=1)\n",
        "zero_to_ten"
      ],
      "metadata": {
        "colab": {
          "base_uri": "https://localhost:8080/"
        },
        "id": "X_qasS9ap90-",
        "outputId": "61ac4872-5ba5-4835-bc61-dc7492078035"
      },
      "execution_count": 34,
      "outputs": [
        {
          "output_type": "execute_result",
          "data": {
            "text/plain": [
              "tensor([0, 1, 2, 3, 4, 5, 6, 7, 8, 9])"
            ]
          },
          "metadata": {},
          "execution_count": 34
        }
      ]
    },
    {
      "cell_type": "code",
      "source": [
        "# Can also create a tensor of zeros similar to another tensor\n",
        "ten_zeros = torch.zeros_like(input=zero_to_ten) # will have same shape\n",
        "ten_zeros"
      ],
      "metadata": {
        "colab": {
          "base_uri": "https://localhost:8080/"
        },
        "id": "s9yj50dSrAyL",
        "outputId": "f49b782a-d4ee-42d7-9797-d6b2d7635b35"
      },
      "execution_count": 35,
      "outputs": [
        {
          "output_type": "execute_result",
          "data": {
            "text/plain": [
              "tensor([0, 0, 0, 0, 0, 0, 0, 0, 0, 0])"
            ]
          },
          "metadata": {},
          "execution_count": 35
        }
      ]
    },
    {
      "cell_type": "markdown",
      "source": [
        "## Tensor datatypes\n",
        "\n",
        "**Note** : Tensor datatype is one of the 3 big errors you'll run into with PyTorch & deep learing:\n",
        "  1. Tensors not right datatype\n",
        "  2. Tensors not right shape\n",
        "  3. tensors not on the right device\n",
        "  "
      ],
      "metadata": {
        "id": "QKt4FEtyvIMR"
      }
    },
    {
      "cell_type": "code",
      "source": [
        "# Default datatype for tensors is float32\n",
        "float_32_tensor = torch.tensor([3.0, 6.0, 9.0],\n",
        "                               dtype=None, # defaults to None, which is torch.float32 or whatever datatype is passed\n",
        "                               device=None, # defaults to None, which uses the default tensor type\n",
        "                               requires_grad=False) # if True, operations performed on the tensor are recorded\n",
        "\n",
        "float_32_tensor.shape, float_32_tensor.dtype, float_32_tensor.device"
      ],
      "metadata": {
        "colab": {
          "base_uri": "https://localhost:8080/"
        },
        "id": "73sHEfZEu6PN",
        "outputId": "151cd488-5a45-412c-a39d-7d7f0143b98c"
      },
      "execution_count": 36,
      "outputs": [
        {
          "output_type": "execute_result",
          "data": {
            "text/plain": [
              "(torch.Size([3]), torch.float32, device(type='cpu'))"
            ]
          },
          "metadata": {},
          "execution_count": 36
        }
      ]
    },
    {
      "cell_type": "code",
      "source": [
        "float_16_tensor = torch.tensor([3.0, 6.0, 9.0],\n",
        "                               dtype=torch.float16) # torch.half would also work\n",
        "\n",
        "float_16_tensor.dtype"
      ],
      "metadata": {
        "colab": {
          "base_uri": "https://localhost:8080/"
        },
        "id": "Nn0ezeIsvq8B",
        "outputId": "cca16f43-a3e1-4ea8-d472-8b22de3cc648"
      },
      "execution_count": 37,
      "outputs": [
        {
          "output_type": "execute_result",
          "data": {
            "text/plain": [
              "torch.float16"
            ]
          },
          "metadata": {},
          "execution_count": 37
        }
      ]
    },
    {
      "cell_type": "markdown",
      "source": [
        "## Getting information from tensors\n",
        "We've seen these before but three of the most common attributes you'll want to find out about tensors are:\n",
        "\n",
        " * `shape` - what shape is the tensor? (some\n",
        "operations require specific shape rules)\n",
        " * `dtype` - what datatype are the elements within the tensor stored in?\n",
        " * `device` - what device is the tensor stored on? (usually GPU or CPU)\n"
      ],
      "metadata": {
        "id": "IOvn8VpQw57A"
      }
    },
    {
      "cell_type": "code",
      "source": [
        "# Create a tensor\n",
        "some_tensor = torch.rand(3, 4)\n",
        "\n",
        "# Find out details about it\n",
        "print(some_tensor)\n",
        "print(f\"Shape of tensor: {some_tensor.shape}\")\n",
        "print(f\"Datatype of tensor: {some_tensor.dtype}\")\n",
        "print(f\"Device tensor is stored on: {some_tensor.device}\") # will default to CPU"
      ],
      "metadata": {
        "colab": {
          "base_uri": "https://localhost:8080/"
        },
        "id": "5eyBnIe1wlK7",
        "outputId": "8087d709-9524-45b9-c779-18b08c45de9a"
      },
      "execution_count": 38,
      "outputs": [
        {
          "output_type": "stream",
          "name": "stdout",
          "text": [
            "tensor([[0.1284, 0.3073, 0.1445, 0.2488],\n",
            "        [0.9060, 0.5273, 0.0849, 0.1660],\n",
            "        [0.7263, 0.5314, 0.7368, 0.9254]])\n",
            "Shape of tensor: torch.Size([3, 4])\n",
            "Datatype of tensor: torch.float32\n",
            "Device tensor is stored on: cpu\n"
          ]
        }
      ]
    },
    {
      "cell_type": "markdown",
      "source": [
        "## Manipulating tensors (tensor operations)\n",
        "\n",
        "In deep learning, data (images, text, video, audio, protein structures, etc) gets represented as tensors.\n",
        "\n",
        "A model learns by investigating those tensors and performing a series of operations (could be 1,000,000s+) on tensors to create a representation of the patterns in the input data.\n",
        "\n",
        "These operations are often a wonderful dance between:\n",
        "\n",
        "* Addition\n",
        "* Substraction\n",
        "* Multiplication (element-wise)\n",
        "* Division\n",
        "* Matrix multiplication"
      ],
      "metadata": {
        "id": "PzNaIVGbxtvE"
      }
    },
    {
      "cell_type": "markdown",
      "source": [
        "### Basic operations"
      ],
      "metadata": {
        "id": "slKeVjObyJhf"
      }
    },
    {
      "cell_type": "code",
      "source": [
        "# Create a tensor of values and add a number to it\n",
        "tensor = torch.tensor([1, 2, 3])\n",
        "tensor + 10"
      ],
      "metadata": {
        "colab": {
          "base_uri": "https://localhost:8080/"
        },
        "id": "gyMVOOYXxl36",
        "outputId": "11a1588b-ee20-4f75-9ba2-34521aa459c8"
      },
      "execution_count": 39,
      "outputs": [
        {
          "output_type": "execute_result",
          "data": {
            "text/plain": [
              "tensor([11, 12, 13])"
            ]
          },
          "metadata": {},
          "execution_count": 39
        }
      ]
    },
    {
      "cell_type": "code",
      "source": [
        "# Multiply it by 10\n",
        "tensor * 10"
      ],
      "metadata": {
        "colab": {
          "base_uri": "https://localhost:8080/"
        },
        "id": "fUdPSQfryMct",
        "outputId": "3d75c23d-1374-4ab7-aff5-cb3127ee4504"
      },
      "execution_count": 40,
      "outputs": [
        {
          "output_type": "execute_result",
          "data": {
            "text/plain": [
              "tensor([10, 20, 30])"
            ]
          },
          "metadata": {},
          "execution_count": 40
        }
      ]
    },
    {
      "cell_type": "code",
      "source": [
        "# Tensors don't change unless reassigned\n",
        "tensor"
      ],
      "metadata": {
        "colab": {
          "base_uri": "https://localhost:8080/"
        },
        "id": "osXzIxa3yNoq",
        "outputId": "76734523-8803-45a5-b227-e23b014a35d5"
      },
      "execution_count": 41,
      "outputs": [
        {
          "output_type": "execute_result",
          "data": {
            "text/plain": [
              "tensor([1, 2, 3])"
            ]
          },
          "metadata": {},
          "execution_count": 41
        }
      ]
    },
    {
      "cell_type": "code",
      "source": [
        "# Subtract and reassign\n",
        "tensor = tensor - 10\n",
        "tensor"
      ],
      "metadata": {
        "colab": {
          "base_uri": "https://localhost:8080/"
        },
        "id": "nol_OZtmyTSt",
        "outputId": "e59f98b0-fadf-48d9-9373-9111a11e92cd"
      },
      "execution_count": 42,
      "outputs": [
        {
          "output_type": "execute_result",
          "data": {
            "text/plain": [
              "tensor([-9, -8, -7])"
            ]
          },
          "metadata": {},
          "execution_count": 42
        }
      ]
    },
    {
      "cell_type": "code",
      "source": [
        "# Add and reassign\n",
        "tensor = tensor + 10\n",
        "tensor"
      ],
      "metadata": {
        "colab": {
          "base_uri": "https://localhost:8080/"
        },
        "id": "l17rO85cyU1W",
        "outputId": "5b026c15-4876-46b0-f82b-1063673dd069"
      },
      "execution_count": 43,
      "outputs": [
        {
          "output_type": "execute_result",
          "data": {
            "text/plain": [
              "tensor([1, 2, 3])"
            ]
          },
          "metadata": {},
          "execution_count": 43
        }
      ]
    },
    {
      "cell_type": "code",
      "source": [
        "# Can also use torch functions\n",
        "torch.multiply(tensor, 10)"
      ],
      "metadata": {
        "colab": {
          "base_uri": "https://localhost:8080/"
        },
        "id": "1-rqGWwoyW5b",
        "outputId": "7234eac5-afd8-4b23-eb9d-46d6c10ec7c7"
      },
      "execution_count": 44,
      "outputs": [
        {
          "output_type": "execute_result",
          "data": {
            "text/plain": [
              "tensor([10, 20, 30])"
            ]
          },
          "metadata": {},
          "execution_count": 44
        }
      ]
    },
    {
      "cell_type": "code",
      "source": [
        "# Original tensor is still unchanged\n",
        "tensor"
      ],
      "metadata": {
        "colab": {
          "base_uri": "https://localhost:8080/"
        },
        "id": "blfUocgCybLq",
        "outputId": "278a6e8f-e123-49d1-c429-5ee540bc4167"
      },
      "execution_count": 45,
      "outputs": [
        {
          "output_type": "execute_result",
          "data": {
            "text/plain": [
              "tensor([1, 2, 3])"
            ]
          },
          "metadata": {},
          "execution_count": 45
        }
      ]
    },
    {
      "cell_type": "code",
      "source": [
        "# Element-wise multiplication (each element multiplies its equivalent, index 0->0, 1->1, 2->2)\n",
        "print(tensor, \"*\", tensor)\n",
        "print(\"Equals:\", tensor * tensor)"
      ],
      "metadata": {
        "colab": {
          "base_uri": "https://localhost:8080/"
        },
        "id": "VGtHgESGycVV",
        "outputId": "adb3ef9b-8e79-4739-d2c6-b42da3bd8cff"
      },
      "execution_count": 46,
      "outputs": [
        {
          "output_type": "stream",
          "name": "stdout",
          "text": [
            "tensor([1, 2, 3]) * tensor([1, 2, 3])\n",
            "Equals: tensor([1, 4, 9])\n"
          ]
        }
      ]
    },
    {
      "cell_type": "markdown",
      "source": [
        "### Matrix multiplication (is all you need)\n",
        "\n",
        "PyTorch implements matrix multiplication functionality in the `torch.matmul()` method.\n",
        "\n",
        "The main two rules for matrix multiplication to remember are:\n",
        "\n",
        "1. The **inner dimensions** must match:\n",
        "\n",
        "* `(3, 2) @ (3, 2)` won't work\n",
        "\n",
        "* `(2, 3) @ (3, 2)` will work\n",
        "\n",
        "* `(3, 2) @ (2, 3)` will work\n",
        "\n",
        "2. The resulting matrix has the shape of the **outer dimensions**:\n",
        "\n",
        "* `(2, 3) @ (3, 2) -> (2, 2)`\n",
        "\n",
        "* `(3, 2) @ (2, 3) -> (3, 3)`\n",
        "\n",
        "Note: \"@\" in Python is the symbol for matrix multiplication."
      ],
      "metadata": {
        "id": "5sHoiDk8yjpY"
      }
    },
    {
      "cell_type": "code",
      "source": [
        "import torch\n",
        "tensor = torch.tensor([1, 2, 3])\n",
        "tensor.shape"
      ],
      "metadata": {
        "colab": {
          "base_uri": "https://localhost:8080/"
        },
        "id": "uvWuBJK1yirK",
        "outputId": "ddfe055c-8dc4-43f7-e563-5eca902d5dc6"
      },
      "execution_count": 47,
      "outputs": [
        {
          "output_type": "execute_result",
          "data": {
            "text/plain": [
              "torch.Size([3])"
            ]
          },
          "metadata": {},
          "execution_count": 47
        }
      ]
    },
    {
      "cell_type": "markdown",
      "source": [
        "![image.png](data:image/png;base64,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)"
      ],
      "metadata": {
        "id": "qzqF3lVhzfqe"
      }
    },
    {
      "cell_type": "code",
      "source": [
        "# Element-wise matrix multiplication\n",
        "tensor * tensor"
      ],
      "metadata": {
        "colab": {
          "base_uri": "https://localhost:8080/"
        },
        "id": "0fj6mWR8zPXN",
        "outputId": "a4b85c26-3a0a-4b4e-b115-529403b2effe"
      },
      "execution_count": 48,
      "outputs": [
        {
          "output_type": "execute_result",
          "data": {
            "text/plain": [
              "tensor([1, 4, 9])"
            ]
          },
          "metadata": {},
          "execution_count": 48
        }
      ]
    },
    {
      "cell_type": "code",
      "source": [
        "# Matrix multiplication\n",
        "torch.matmul(tensor, tensor)"
      ],
      "metadata": {
        "colab": {
          "base_uri": "https://localhost:8080/"
        },
        "id": "tsUvysFvzZd6",
        "outputId": "28c3f57b-f1af-44f0-8fec-2c09b02bf5a3"
      },
      "execution_count": 49,
      "outputs": [
        {
          "output_type": "execute_result",
          "data": {
            "text/plain": [
              "tensor(14)"
            ]
          },
          "metadata": {},
          "execution_count": 49
        }
      ]
    },
    {
      "cell_type": "code",
      "source": [
        "%%time\n",
        "# Matrix multiplication by hand\n",
        "# (avoid doing operations with for loops at all cost, they are computationally expensive)\n",
        "value = 0\n",
        "for i in range(len(tensor)):\n",
        "  value += tensor[i] * tensor[i]\n",
        "value"
      ],
      "metadata": {
        "colab": {
          "base_uri": "https://localhost:8080/"
        },
        "id": "Jra8zt28zbOo",
        "outputId": "fd73b994-9c8a-4329-ed4a-4aa7f193ef28"
      },
      "execution_count": 50,
      "outputs": [
        {
          "output_type": "stream",
          "name": "stdout",
          "text": [
            "CPU times: user 1.32 ms, sys: 25 µs, total: 1.34 ms\n",
            "Wall time: 1.36 ms\n"
          ]
        },
        {
          "output_type": "execute_result",
          "data": {
            "text/plain": [
              "tensor(14)"
            ]
          },
          "metadata": {},
          "execution_count": 50
        }
      ]
    },
    {
      "cell_type": "code",
      "source": [
        "%%time\n",
        "torch.matmul(tensor, tensor)"
      ],
      "metadata": {
        "colab": {
          "base_uri": "https://localhost:8080/"
        },
        "id": "aKScuivdzpYd",
        "outputId": "f2c7b741-bfaa-4a30-e909-9f632488c90a"
      },
      "execution_count": 51,
      "outputs": [
        {
          "output_type": "stream",
          "name": "stdout",
          "text": [
            "CPU times: user 139 µs, sys: 12 µs, total: 151 µs\n",
            "Wall time: 101 µs\n"
          ]
        },
        {
          "output_type": "execute_result",
          "data": {
            "text/plain": [
              "tensor(14)"
            ]
          },
          "metadata": {},
          "execution_count": 51
        }
      ]
    }
  ]
}